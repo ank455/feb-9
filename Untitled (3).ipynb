{
 "cells": [
  {
   "cell_type": "code",
   "execution_count": 2,
   "id": "00bc46dc-1da4-4630-8335-b16d7b87d234",
   "metadata": {},
   "outputs": [],
   "source": [
    "# Ans 1\n",
    "class vehicles :\n",
    "    \n",
    "    def __init__(self , name_of_vehicles , max_speed , average_of_vehicles):\n",
    "        self.name_of_vehicles = name_of_vehicles\n",
    "        self.max_speed = max_speed\n",
    "        self.average_of_vehicles = average_of_vehicles "
   ]
  },
  {
   "cell_type": "code",
   "execution_count": 3,
   "id": "cbb71e3a-e565-429e-a332-ee7b08a1a8c1",
   "metadata": {},
   "outputs": [],
   "source": [
    "v = vehicles(\"Thar\" , 100 , 50)"
   ]
  },
  {
   "cell_type": "code",
   "execution_count": 4,
   "id": "21061f56-677c-4a4b-935c-cd0006f1c2dd",
   "metadata": {},
   "outputs": [
    {
     "data": {
      "text/plain": [
       "'Thar'"
      ]
     },
     "execution_count": 4,
     "metadata": {},
     "output_type": "execute_result"
    }
   ],
   "source": [
    "v.name_of_vehicles"
   ]
  },
  {
   "cell_type": "code",
   "execution_count": 7,
   "id": "48e54aa5-b544-4689-abec-7558a20ba3da",
   "metadata": {},
   "outputs": [],
   "source": [
    "# ans 2\n",
    "class vehicles :\n",
    "    \n",
    "    def __init__(self , name_of_vehicles , max_speed , average_of_vehicles):\n",
    "        self.name_of_vehicles = name_of_vehicles\n",
    "        self.max_speed = max_speed\n",
    "        self.average_of_vehicles = average_of_vehicles \n",
    "        \n",
    "    def get_info(self):\n",
    "        return f\"this is a {self.name_of_vehicles}{self.max_speed}{self.average_of_vehicles}\"\n",
    "\n",
    "\n",
    "\n",
    "class Car(vehicles):\n",
    "    \n",
    "    def __init__(self,name_of_vehicles, max_speed ,average_of_vehicles , seating_capacity):\n",
    "        \n",
    "        super().__init__(name_of_vehicles, max_speed ,average_of_vehicles)\n",
    "        self.seating_capacity = seating_capacity\n",
    "        \n",
    "    \n",
    "    \n",
    "    def seating_capacity(self):\n",
    "        return f\"{self.name_of_vehicles} has a seating capacity of {self.seating_capacity}passangers\""
   ]
  },
  {
   "cell_type": "code",
   "execution_count": null,
   "id": "e120449b-9997-4401-ba8c-bd0da49ff08f",
   "metadata": {},
   "outputs": [],
   "source": [
    "c = car"
   ]
  },
  {
   "cell_type": "code",
   "execution_count": null,
   "id": "44b667f4-e233-4637-aa0d-4e72a292f732",
   "metadata": {},
   "outputs": [],
   "source": [
    "# Ans 3\n",
    "\n",
    "Multiple inheritance means that a subclass can inherit from two or more superclasses\n"
   ]
  },
  {
   "cell_type": "code",
   "execution_count": 17,
   "id": "543ecdd9-bb0c-41f5-bce9-3f1ff1467bff",
   "metadata": {},
   "outputs": [],
   "source": [
    "# Example of multiple inheritance \n",
    "class class1 :\n",
    "    def ankit_class1(self):\n",
    "        return \"Ankit\""
   ]
  },
  {
   "cell_type": "code",
   "execution_count": 18,
   "id": "b9e43528-8ed8-4b4f-a3da-575b08a83c20",
   "metadata": {},
   "outputs": [],
   "source": [
    "class class2:\n",
    "    def ankit_class2(self):\n",
    "        return \"kumar\""
   ]
  },
  {
   "cell_type": "code",
   "execution_count": 20,
   "id": "ecc52b61-9e94-4d9d-9c6a-78be3a3c0896",
   "metadata": {},
   "outputs": [],
   "source": [
    "class class3(class1 , class2 ):\n",
    "    pass"
   ]
  },
  {
   "cell_type": "code",
   "execution_count": 21,
   "id": "f01c0ffd-06c8-4b45-8876-868db5d28822",
   "metadata": {},
   "outputs": [],
   "source": [
    "obj_class3=class3()"
   ]
  },
  {
   "cell_type": "code",
   "execution_count": 22,
   "id": "35c75eb3-f775-4caa-b411-f4b6a24e6d99",
   "metadata": {},
   "outputs": [
    {
     "data": {
      "text/plain": [
       "'Ankit'"
      ]
     },
     "execution_count": 22,
     "metadata": {},
     "output_type": "execute_result"
    }
   ],
   "source": [
    "obj_class3.ankit_class1()"
   ]
  },
  {
   "cell_type": "code",
   "execution_count": 24,
   "id": "25a142be-02fd-4689-874d-18f4f0f4d025",
   "metadata": {},
   "outputs": [
    {
     "data": {
      "text/plain": [
       "'kumar'"
      ]
     },
     "execution_count": 24,
     "metadata": {},
     "output_type": "execute_result"
    }
   ],
   "source": [
    "obj_class3.ankit_class2()"
   ]
  },
  {
   "cell_type": "code",
   "execution_count": null,
   "id": "2c77feec-f702-4f69-8f42-0a478da82215",
   "metadata": {},
   "outputs": [],
   "source": [
    "# Ans 4\n",
    "\n",
    "Getter: A method that allows you to access an attribute in a given class. \n",
    "Setter: A method that allows you to set or mutate the value of an attribute in a class"
   ]
  },
  {
   "cell_type": "code",
   "execution_count": 56,
   "id": "736ea9eb-2541-4d1b-bd98-7f6233355e99",
   "metadata": {},
   "outputs": [],
   "source": [
    "# example of getter and setter \n",
    "\n",
    "class car :\n",
    "    def __init__(self, name_of_car , price):\n",
    "        self.name_of_car = name_of_car\n",
    "        self.price = 0 \n",
    "        \n",
    "        \n",
    "    def set_price(self , price) :\n",
    "        self.__price = 0 if price < 1000 else price \n",
    "        \n",
    "    def get_price(self) :\n",
    "        return self.__price"
   ]
  },
  {
   "cell_type": "code",
   "execution_count": 57,
   "id": "f15de68a-c702-40e2-bc9a-3934b2426aca",
   "metadata": {},
   "outputs": [],
   "source": [
    "c = car('Thar' , 1000) "
   ]
  },
  {
   "cell_type": "code",
   "execution_count": 59,
   "id": "ffea844f-1e71-434a-94d4-c2b1e5f1cc22",
   "metadata": {},
   "outputs": [],
   "source": [
    "c.set_price(5000) "
   ]
  },
  {
   "cell_type": "code",
   "execution_count": 60,
   "id": "7efda291-abb4-4f1e-bb02-2b8b4f31f20e",
   "metadata": {},
   "outputs": [
    {
     "data": {
      "text/plain": [
       "5000"
      ]
     },
     "execution_count": 60,
     "metadata": {},
     "output_type": "execute_result"
    }
   ],
   "source": [
    "c.get_price()"
   ]
  },
  {
   "cell_type": "code",
   "execution_count": null,
   "id": "7b540806-c7c7-4067-915e-d95c2b1a1a08",
   "metadata": {},
   "outputs": [],
   "source": [
    "# Ans 5\n",
    "\n",
    "Method overriding is a feature of oop languages where the subclass or child class can provide the program with specific characteristics or a specific implementation process of data provided that are already defined in the parent class or superclass"
   ]
  },
  {
   "cell_type": "code",
   "execution_count": 22,
   "id": "d1afb0dc-b39e-45ed-8db2-309a91dfd9ac",
   "metadata": {},
   "outputs": [
    {
     "name": "stdout",
     "output_type": "stream",
     "text": [
      "sudh\n",
      "ankit\n"
     ]
    }
   ],
   "source": [
    "# Example of multiple overriding\n",
    "\n",
    "class msc():\n",
    "    \n",
    "    def ankit(self):\n",
    "        print('ankit')\n",
    "        \n",
    "class pwskills(msc):\n",
    "    \n",
    "    def kumar(self):\n",
    "        print('kumar')\n",
    "        \n",
    "class bcci(pwskills):\n",
    "    \n",
    "    def sudh(self):\n",
    "        print('sudh')\n",
    "        \n",
    "p = bcci()\n",
    "p.sudh()\n",
    "p.ankit()\n"
   ]
  },
  {
   "cell_type": "code",
   "execution_count": null,
   "id": "324dc34c-4e49-4a74-aa4b-3990ca2b4de9",
   "metadata": {},
   "outputs": [],
   "source": []
  }
 ],
 "metadata": {
  "kernelspec": {
   "display_name": "Python 3 (ipykernel)",
   "language": "python",
   "name": "python3"
  },
  "language_info": {
   "codemirror_mode": {
    "name": "ipython",
    "version": 3
   },
   "file_extension": ".py",
   "mimetype": "text/x-python",
   "name": "python",
   "nbconvert_exporter": "python",
   "pygments_lexer": "ipython3",
   "version": "3.10.8"
  }
 },
 "nbformat": 4,
 "nbformat_minor": 5
}
